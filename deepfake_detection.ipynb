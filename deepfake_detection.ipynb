{
  "cells": [
    {
      "cell_type": "markdown",
      "metadata": {
        "id": "view-in-github",
        "colab_type": "text"
      },
      "source": [
        "<a href=\"https://colab.research.google.com/github/mpawank/Linear_regression/blob/main/deepfake_detection.ipynb\" target=\"_parent\"><img src=\"https://colab.research.google.com/assets/colab-badge.svg\" alt=\"Open In Colab\"/></a>"
      ]
    },
    {
      "cell_type": "code",
      "execution_count": null,
      "metadata": {
        "id": "fWG5kB9pXe33"
      },
      "outputs": [],
      "source": [
        "import numpy as np\n",
        "import matplotlib.pyplot as plt\n",
        "import cv2\n",
        "import pandas as pd\n",
        "import glob2\n",
        "import os, fnmatch\n",
        "from pathlib import Path\n",
        "# import mtcnn\n",
        "from mtcnn.mtcnn import MTCNN"
      ]
    },
    {
      "cell_type": "code",
      "execution_count": null,
      "metadata": {
        "colab": {
          "background_save": true,
          "base_uri": "https://localhost:8080/"
        },
        "id": "HEJTgCiybEkA",
        "outputId": "855b7a8c-4314-4e14-af09-a1e135d79a08"
      },
      "outputs": [
        {
          "name": "stdout",
          "output_type": "stream",
          "text": [
            "Error opening file\n"
          ]
        }
      ],
      "source": [
        "def extract_multiple_videos(intput_filenames, image_path_infile):\n",
        "    \"\"\"Extract video files into sequence of images.\"\"\"\n",
        "i = 1  # Counter of first video\n",
        "# Iterate file names:\n",
        "cap = cv2.VideoCapture('your_video_file_path.avi' or intput_filenames)\n",
        "if (cap.isOpened()== False):\n",
        "        print(\"Error opening file\")\n",
        "# Keep iterating break\n",
        "while True:\n",
        "\n",
        "  ret, frame = cap.read()  # Read frame from first video\n",
        "\n",
        "if ret:\n",
        "  cv2.imwrite(os.path.join(image_path_infile , str(i) + '.jpg'), frame)  # Write frame to JPEG file (1.jpg, 2.jpg, ...)\n",
        "# you can uncomment this line if you want to view them.\n",
        "#           cv2.imshow('frame', frame)  # Display frame for testing\n",
        "  i += 1 # Advance file counter\n",
        "else:\n",
        "  break\n",
        "cv2.waitKey(50) #Wait 50msec\n",
        "cap.release()"
      ]
    },
    {
      "cell_type": "code",
      "execution_count": null,
      "metadata": {
        "id": "D0kx8wgQaMP-"
      },
      "outputs": [],
      "source": [
        "from skimage import measure\n",
        "def mse(imageA, imageB):\n",
        "\n",
        "    err = np.sum((imageA.astype(\"float\") - imageB.astype(\"float\")) ** 2)\n",
        "    err /= float(imageA.shape[0] * imageA.shape[1])\n",
        "\n",
        "    return err\n",
        "def compare_images(imageA, imageB, title):\n",
        "    m = mse(imageA, imageB)\n",
        "    s = measure.compare_ssim(imageA, imageB)\n",
        "\n",
        "    fig = plt.figure(title)\n",
        "    plt.suptitle(\"MSE: %.2f, SSIM: %.2f\" % (m, s))\n",
        "\n",
        "    ax = fig.add_subplot(1, 2, 1)\n",
        "    plt.imshow(imageA, cmap = plt.cm.gray)\n",
        "    plt.axis(\"off\")\n",
        "\n",
        "    ax = fig.add_subplot(1, 2, 2)\n",
        "    plt.imshow(imageB, cmap = plt.cm.gray)\n",
        "    plt.axis(\"off\")\n",
        "\n",
        "    plt.show()"
      ]
    }
  ],
  "metadata": {
    "colab": {
      "provenance": [],
      "authorship_tag": "ABX9TyN/9fc5GVm7sBMVSokKHz3w",
      "include_colab_link": true
    },
    "kernelspec": {
      "display_name": "Python 3",
      "name": "python3"
    },
    "language_info": {
      "name": "python"
    }
  },
  "nbformat": 4,
  "nbformat_minor": 0
}